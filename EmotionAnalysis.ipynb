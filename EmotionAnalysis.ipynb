{
 "cells": [
  {
   "cell_type": "code",
   "execution_count": 1,
   "metadata": {},
   "outputs": [
    {
     "name": "stdout",
     "output_type": "stream",
     "text": [
      "Output video saved as output_with_emotions.mp4\n"
     ]
    }
   ],
   "source": [
    "import cv2\n",
    "import pandas as pd\n",
    "from moviepy.editor import VideoFileClip\n",
    "from deepface import DeepFace\n",
    "\n",
    "def analyze_emotions_and_display(video_path, time_ranges, output_video_path=\"output_video.mp4\"):\n",
    "    \"\"\"\n",
    "    動画全体を再生しながら、指定した時間帯で感情分析を行い、その結果を表示する関数。\n",
    "    :param video_path: 動画ファイルのパス\n",
    "    :param time_ranges: 感情分析を行う時間帯のリスト [(start_time1, end_time1), (start_time2, end_time2), ...]\n",
    "                        時間は秒単位で指定\n",
    "    :param output_video_path: 出力する動画ファイルのパス\n",
    "    \"\"\"\n",
    "    video = VideoFileClip(video_path)\n",
    "    width, height = int(video.w), int(video.h)\n",
    "\n",
    "    # 動画出力の設定（動画ファイル保存用）\n",
    "    fourcc = cv2.VideoWriter_fourcc(*'mp4v')  # 出力動画フォーマット\n",
    "    output_video = cv2.VideoWriter(output_video_path, fourcc, video.fps, (width, height))\n",
    "\n",
    "    # 動画全体の長さを取得\n",
    "    total_duration = video.duration\n",
    "\n",
    "    # 時間帯リストを1秒刻みの時間リストに変換（感情分析を行う秒単位のリストを生成）\n",
    "    analysis_times = []\n",
    "    for start_time, end_time in time_ranges:\n",
    "        analysis_times.extend(range(int(start_time), int(end_time) + 1))\n",
    "\n",
    "    current_time = 0\n",
    "\n",
    "    while current_time < total_duration:\n",
    "        # 動画の指定時間にジャンプしてフレームを取得\n",
    "        video_frame = video.get_frame(current_time)\n",
    "        # BGR形式に変換（OpenCV用）\n",
    "        video_frame = cv2.cvtColor(video_frame, cv2.COLOR_RGB2BGR)\n",
    "        \n",
    "        # 現在のフレームの時間が感情分析の時間帯に含まれている場合のみ感情分析を実行\n",
    "        if int(current_time) in analysis_times:\n",
    "            try:\n",
    "                # YOLO を使用するように設定\n",
    "                emotions_list = DeepFace.analyze(video_frame, actions=['emotion'], enforce_detection=False, detector_backend='yolov8')\n",
    "\n",
    "                # 複数の顔がある場合、結果はリストとして返される\n",
    "                if not isinstance(emotions_list, list):\n",
    "                    emotions_list = [emotions_list]\n",
    "\n",
    "                # 各顔の感情分析結果をもとにフレームに描画\n",
    "                for emotions in emotions_list:\n",
    "                    face_region = emotions['region']\n",
    "                    dominant_emotion = emotions['dominant_emotion']\n",
    "\n",
    "                    # 顔の領域に矩形を描画\n",
    "                    x, y, w, h = face_region['x'], face_region['y'], face_region['w'], face_region['h']\n",
    "                    cv2.rectangle(video_frame, (x, y), (x + w, y + h), (0, 255, 0), 2)\n",
    "                    \n",
    "                    # 支配的な感情ラベルを顔の上に表示\n",
    "                    cv2.putText(video_frame, f\"{dominant_emotion}\", (x, y - 10), cv2.FONT_HERSHEY_SIMPLEX, 0.9, (0, 255, 0), 2)\n",
    "\n",
    "            except Exception as e:\n",
    "                print(f\"Error analyzing frame at {current_time}s: {e}\")\n",
    "\n",
    "        # フレームを動画に保存\n",
    "        output_video.write(video_frame)\n",
    "\n",
    "        # 動画の次のフレームへ（1秒ごとに進める）\n",
    "        current_time += 1 / video.fps\n",
    "\n",
    "    # リソースの解放\n",
    "    output_video.release()\n",
    "    print(f\"Output video saved as {output_video_path}\")\n",
    "\n",
    "# 実行例\n",
    "video_path = \"C:/Notebook/emotionanalyse/sample2021.mp4\"\n",
    "# 分析したい時間帯を指定（例: 5秒から10秒、15秒から20秒の範囲）\n",
    "time_ranges = [(4, 30), (31, 60)]\n",
    "\n",
    "# 感情分析結果を動画に表示して出力\n",
    "analyze_emotions_and_display(video_path, time_ranges, output_video_path=\"output_with_emotions.mp4\")\n"
   ]
  },
  {
   "cell_type": "code",
   "execution_count": null,
   "metadata": {},
   "outputs": [],
   "source": []
  }
 ],
 "metadata": {
  "kernelspec": {
   "display_name": "Python 3",
   "language": "python",
   "name": "python3"
  },
  "language_info": {
   "codemirror_mode": {
    "name": "ipython",
    "version": 3
   },
   "file_extension": ".py",
   "mimetype": "text/x-python",
   "name": "python",
   "nbconvert_exporter": "python",
   "pygments_lexer": "ipython3",
   "version": "3.8.7"
  }
 },
 "nbformat": 4,
 "nbformat_minor": 2
}
